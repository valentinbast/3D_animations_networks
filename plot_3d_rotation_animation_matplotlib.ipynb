{
  "cells": [
    {
      "cell_type": "markdown",
      "metadata": {},
      "source": [
        "\n",
        "# Animations of 3D rotation and different network topologies using maplotlib\n",
        "Examples of 3D plots of a graph in the 3D spectral layout with animation.\n",
        "Following\n",
        "https://sphinx-gallery.github.io/stable/auto_examples/plot_8_animations.html\n",
        "using frame rotation of an initial plot of a graph as in\n",
        "https://matplotlib.org/stable/api/animation_api.html\n",
        "or complete frame redraw to plot a random walk on the graph.\n",
        "\n",
        "The commented out line with 'plt.show()' needs to be commented back in\n",
        "in both examples when running locally.\n"
      ]
    },
    {
      "cell_type": "code",
      "execution_count": 11,
      "metadata": {
        "collapsed": false
      },
      "outputs": [],
      "source": [
        "import matplotlib.pyplot as plt\n",
        "from mpl_toolkits.mplot3d import Axes3D\n",
        "import networkx as nx\n",
        "import numpy as np\n",
        "import random\n",
        "from matplotlib.animation import FuncAnimation"
      ]
    },
    {
      "cell_type": "markdown",
      "metadata": {},
      "source": [
        "## Define a parameters, logic for network topologies\n"
      ]
    },
    {
      "cell_type": "code",
      "execution_count": 12,
      "metadata": {},
      "outputs": [],
      "source": [
        "# Parameters dictionary\n",
        "params = {\n",
        "    \"num_nodes\": 50,\n",
        "    \"initial_infected\": 3,\n",
        "    \"spread_chance\": 0.1,\n",
        "    \"recovery_chance\": 0.02,\n",
        "    \"network_type\": \"powerlaw_cluster\",  # Added \"powerlaw_cluster\" as an option\n",
        "    \"erdos_renyi_p\": 0.1,          # Probability for Erdős-Rényi\n",
        "    \"barabasi_albert_m\": 2,        # Number of edges to attach for Barabási-Albert\n",
        "    \"watts_strogatz_k\": 4,         # Each node is connected to k neighbors in Watts-Strogatz\n",
        "    \"watts_strogatz_p\": 0.1,       # Rewiring probability for Watts-Strogatz\n",
        "    \"powerlaw_cluster_m\": 2,       # Number of edges to attach for Powerlaw-Cluster\n",
        "    \"powerlaw_cluster_p\": 0.3      # Probability of adding a triangle for Powerlaw-Cluster\n",
        "}\n",
        "\n",
        "# Create the graph based on the selected topology\n",
        "if params[\"network_type\"] == \"erdos_renyi\":\n",
        "    G = nx.erdos_renyi_graph(params[\"num_nodes\"], params[\"erdos_renyi_p\"])\n",
        "elif params[\"network_type\"] == \"barabasi_albert\":\n",
        "    G = nx.barabasi_albert_graph(params[\"num_nodes\"], params[\"barabasi_albert_m\"])\n",
        "elif params[\"network_type\"] == \"watts_strogatz\":\n",
        "    G = nx.watts_strogatz_graph(params[\"num_nodes\"], params[\"watts_strogatz_k\"], params[\"watts_strogatz_p\"])\n",
        "elif params[\"network_type\"] == \"powerlaw_cluster\":\n",
        "    G = nx.powerlaw_cluster_graph(params[\"num_nodes\"], params[\"powerlaw_cluster_m\"], params[\"powerlaw_cluster_p\"])\n",
        "else:\n",
        "    raise ValueError(\"Invalid network type specified in params.\")"
      ]
    },
    {
      "cell_type": "code",
      "execution_count": 13,
      "metadata": {},
      "outputs": [],
      "source": [
        "# Generate 3D positions for nodes\n",
        "pos = nx.spring_layout(G, dim=3)\n",
        "nodes = np.array([pos[node] for node in G.nodes])\n",
        "\n",
        "# Initialize node states\n",
        "states = {node: 'S' for node in G.nodes}  # 'S' = Susceptible, 'I' = Infected, 'R' = Recovered\n",
        "for node in random.sample(list(G.nodes), params[\"initial_infected\"]):\n",
        "    states[node] = 'I'"
      ]
    },
    {
      "cell_type": "code",
      "execution_count": 14,
      "metadata": {},
      "outputs": [
        {
          "data": {
            "image/png": "[encoded data removed]",
            "text/plain": [
              "<Figure size 640x480 with 1 Axes>"
            ]
          },
          "metadata": {},
          "output_type": "display_data"
        },
        {
          "name": "stderr",
          "output_type": "stream",
          "text": [
            "MovieWriter Pillow unavailable; using Pillow instead.\n"
          ]
        }
      ],
      "source": [
        "# Update function for the simulation\n",
        "def update_states():\n",
        "    global states\n",
        "    new_states = states.copy()\n",
        "    for node in G.nodes:\n",
        "        if states[node] == 'I':  # Infected\n",
        "            # Try to infect neighbors\n",
        "            for neighbor in G.neighbors(node):\n",
        "                if states[neighbor] == 'S' and random.random() < params[\"spread_chance\"]:\n",
        "                    new_states[neighbor] = 'I'\n",
        "            # Try to recover\n",
        "            if random.random() < params[\"recovery_chance\"]:\n",
        "                new_states[node] = 'R'\n",
        "    states = new_states  # Update the global states dictionary\n",
        "\n",
        "# Frame update function for animation\n",
        "def _frame_update(frame):\n",
        "    global ani\n",
        "    update_states()\n",
        "    ax.clear()\n",
        "    ax.set_axis_off()\n",
        "    ax.grid(False)\n",
        "\n",
        "    # Draw edges\n",
        "    for edge in G.edges:\n",
        "        x = [pos[edge[0]][0], pos[edge[1]][0]]\n",
        "        y = [pos[edge[0]][1], pos[edge[1]][1]]\n",
        "        z = [pos[edge[0]][2], pos[edge[1]][2]]\n",
        "        ax.plot(x, y, z, color=\"gray\", alpha=0.5)\n",
        "\n",
        "    # Draw nodes\n",
        "    for node in G.nodes:\n",
        "        x, y, z = pos[node]\n",
        "        if states[node] == 'S':  # Susceptible\n",
        "            color = \"blue\"\n",
        "        elif states[node] == 'I':  # Infected\n",
        "            color = \"red\"\n",
        "        elif states[node] == 'R':  # Recovered\n",
        "            color = \"green\"\n",
        "        ax.scatter(x, y, z, color=color, s=50, alpha=1)\n",
        "\n",
        "    ax.view_init(elev=20, azim=frame * 0.5)  # Rotate the view slightly for each frame\n",
        "\n",
        "    # Stop the animation if all nodes are recovered\n",
        "    if all(state == 'R' for state in states.values()):\n",
        "        ani.event_source.stop()\n",
        "\n",
        "# Set up the figure and 3D axis\n",
        "fig = plt.figure()\n",
        "ax = fig.add_subplot(111, projection=\"3d\")\n",
        "ax.set_axis_off()\n",
        "plt.tight_layout()\n",
        "\n",
        "# Create the animation\n",
        "ani = FuncAnimation(fig, _frame_update, frames=200, interval=100)\n",
        "\n",
        "# Uncomment the line below to display the animation\n",
        "plt.show()\n",
        "\n",
        "# Uncomment the line below to save the animation as a video (requires ffmpeg or Pillow)\n",
        "ani.save(\"/Users/valentinbast/uni/AngewandteSys1/group_project/3D-plotting/holm-kim/sir_model_3d.gif\", writer=\"Pillow\", fps=30)"
      ]
    }
  ],
  "metadata": {
    "kernelspec": {
      "display_name": "Python 3",
      "language": "python",
      "name": "python3"
    },
    "language_info": {
      "codemirror_mode": {
        "name": "ipython",
        "version": 3
      },
      "file_extension": ".py",
      "mimetype": "text/x-python",
      "name": "python",
      "nbconvert_exporter": "python",
      "pygments_lexer": "ipython3",
      "version": "3.12.9"
    }
  },
  "nbformat": 4,
  "nbformat_minor": 0
}
