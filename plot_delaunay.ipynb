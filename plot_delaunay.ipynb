{
  "cells": [
    {
      "cell_type": "markdown",
      "metadata": {},
      "source": [
        "\n",
        "# Delaunay graphs from geographic points\n",
        "\n",
        "This example shows how to build a delaunay graph (plus its dual,\n",
        "the set of Voronoi polygons) from a set of points.\n",
        "For this, we will use the set of cholera cases at the Broad Street Pump,\n",
        "recorded by John Snow in 1853. The methods shown here can also work\n",
        "directly with polygonal data using their centroids as representative points.\n"
      ]
    },
    {
      "cell_type": "code",
      "execution_count": null,
      "metadata": {
        "collapsed": false
      },
      "outputs": [],
      "source": [
        "from libpysal import weights, examples\n",
        "from libpysal.cg import voronoi_frames\n",
        "from contextily import add_basemap\n",
        "import matplotlib.pyplot as plt\n",
        "import networkx as nx\n",
        "import numpy as np\n",
        "import geopandas\n",
        "\n",
        "# read in example data from a geopackage file. Geopackages\n",
        "# are a format for storing geographic data that is backed\n",
        "# by sqlite. geopandas reads data relying on the fiona package,\n",
        "# providing a high-level pandas-style interface to geographic data.\n",
        "# Many different kinds of geographic data formats can be read by geopandas.\n",
        "cases = geopandas.read_file(\"cholera_cases.gpkg\")\n",
        "\n",
        "# In order for networkx to plot the nodes of our graph correctly, we\n",
        "# need to construct the array of coordinates for each point in our dataset.\n",
        "# To get this as a numpy array, we extract the x and y coordinates from the\n",
        "# geometry column.\n",
        "coordinates = np.column_stack((cases.geometry.x, cases.geometry.y))\n",
        "\n",
        "# While we could simply present the Delaunay graph directly, it is useful to\n",
        "# visualize the Delaunay graph alongside the Voronoi diagram. This is because\n",
        "# the two are intrinsically linked: the adjacency graph of the Voronoi diagram\n",
        "# is the Delaunay graph for the set of generator points! Put simply, this means\n",
        "# we can build the Voronoi diagram (relying on scipy.spatial for the underlying\n",
        "# computations), and then convert these polygons quickly into the Delaunay graph.\n",
        "# Be careful, though; our algorithm, by default, will clip the voronoi diagram to\n",
        "# the bounding box of the point pattern. This is controlled by the \"clip\" argument.\n",
        "cells, generators = voronoi_frames(coordinates, clip=\"convex hull\")\n",
        "\n",
        "# With the voronoi polygons, we can construct the adjacency graph between them using\n",
        "# \"Rook\" contiguity. This represents voronoi cells as being adjacent if they share\n",
        "# an edge/face. This is an analogue to the \"von Neuman\" neighborhood, or the 4 cardinal\n",
        "# neighbors in a regular grid. The name comes from the directions a Rook piece can move\n",
        "# on a chessboard.\n",
        "delaunay = weights.Rook.from_dataframe(cells)\n",
        "\n",
        "# Once the graph is built, we can convert the graphs to networkx objects using the\n",
        "# relevant method.\n",
        "delaunay_graph = delaunay.to_networkx()\n",
        "\n",
        "# To plot with networkx, we need to merge the nodes back to\n",
        "# their positions in order to plot in networkx\n",
        "positions = dict(zip(delaunay_graph.nodes, coordinates))\n",
        "\n",
        "# Now, we can plot with a nice basemap.\n",
        "ax = cells.plot(facecolor=\"lightblue\", alpha=0.50, edgecolor=\"cornsilk\", linewidth=2)\n",
        "try:  # Try-except for issues with timeout/parsing failures in CI\n",
        "    add_basemap(ax)\n",
        "except:\n",
        "    pass\n",
        "\n",
        "ax.axis(\"off\")\n",
        "nx.draw(\n",
        "    delaunay_graph,\n",
        "    positions,\n",
        "    ax=ax,\n",
        "    node_size=2,\n",
        "    node_color=\"k\",\n",
        "    edge_color=\"k\",\n",
        "    alpha=0.8,\n",
        ")\n",
        "plt.show()"
      ]
    }
  ],
  "metadata": {
    "kernelspec": {
      "display_name": "Python 3",
      "language": "python",
      "name": "python3"
    },
    "language_info": {
      "codemirror_mode": {
        "name": "ipython",
        "version": 3
      },
      "file_extension": ".py",
      "mimetype": "text/x-python",
      "name": "python",
      "nbconvert_exporter": "python",
      "pygments_lexer": "ipython3",
      "version": "3.12.9"
    }
  },
  "nbformat": 4,
  "nbformat_minor": 0
}
